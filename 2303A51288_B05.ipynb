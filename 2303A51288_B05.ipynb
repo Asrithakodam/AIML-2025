{
  "nbformat": 4,
  "nbformat_minor": 0,
  "metadata": {
    "colab": {
      "provenance": [],
      "authorship_tag": "ABX9TyMI22D/I8usB7emCnCOnUKD",
      "include_colab_link": true
    },
    "kernelspec": {
      "name": "python3",
      "display_name": "Python 3"
    },
    "language_info": {
      "name": "python"
    }
  },
  "cells": [
    {
      "cell_type": "markdown",
      "metadata": {
        "id": "view-in-github",
        "colab_type": "text"
      },
      "source": [
        "<a href=\"https://colab.research.google.com/github/Asrithakodam/AIML-2025/blob/main/2303A51288_B05.ipynb\" target=\"_parent\"><img src=\"https://colab.research.google.com/assets/colab-badge.svg\" alt=\"Open In Colab\"/></a>"
      ]
    },
    {
      "cell_type": "code",
      "execution_count": 1,
      "metadata": {
        "colab": {
          "base_uri": "https://localhost:8080/"
        },
        "id": "fUJKhKxh17DY",
        "outputId": "735d588d-030a-4fac-e486-b5f7ff9125b9"
      },
      "outputs": [
        {
          "output_type": "stream",
          "name": "stdout",
          "text": [
            "The top 5 travel destinations in East Asia are:\n",
            "1. Tokyo, Japan\n",
            "2. Seoul, South Korea\n",
            "3. Bangkok, Thailand\n",
            "4. Kyoto, Japan\n",
            "5. Hanoi, Vietnam\n"
          ]
        }
      ],
      "source": [
        "def get_top_travel_destinations():\n",
        "    # Define the top 5 travel destinations\n",
        "    destinations = [\n",
        "        \"Tokyo, Japan\",\n",
        "        \"Seoul, South Korea\",\n",
        "        \"Bangkok, Thailand\",\n",
        "        \"Kyoto, Japan\",\n",
        "        \"Hanoi, Vietnam\"\n",
        "    ]\n",
        "\n",
        "    # Display the destinations\n",
        "    print(\"The top 5 travel destinations in East Asia are:\")\n",
        "    for i, destination in enumerate(destinations, 1):\n",
        "        print(f\"{i}. {destination}\")\n",
        "\n",
        "# Call the function\n",
        "get_top_travel_destinations()"
      ]
    },
    {
      "cell_type": "code",
      "source": [
        "def get_top_travel_categories():\n",
        "    # Define the most liked travel categories\n",
        "    categories = [\n",
        "        \"Cultural and Historical Experiences\",\n",
        "        \"Nature and Adventure Travel\",\n",
        "        \"Culinary Tourism\"\n",
        "    ]\n",
        "\n",
        "    # Display the categories\n",
        "    print(\"The most liked travel categories are:\")\n",
        "    for i, category in enumerate(categories, 1):\n",
        "        print(f\"{i}. {category}\")\n",
        "\n",
        "# Call the function\n",
        "get_top_travel_categories()"
      ],
      "metadata": {
        "colab": {
          "base_uri": "https://localhost:8080/"
        },
        "id": "P03GSpts2pbL",
        "outputId": "06a884d7-a6fc-4e32-95b4-c6d6f2481413"
      },
      "execution_count": 2,
      "outputs": [
        {
          "output_type": "stream",
          "name": "stdout",
          "text": [
            "The most liked travel categories are:\n",
            "1. Cultural and Historical Experiences\n",
            "2. Nature and Adventure Travel\n",
            "3. Culinary Tourism\n"
          ]
        }
      ]
    },
    {
      "cell_type": "code",
      "source": [
        "def calculate_max_min_counts(category_counts):\n",
        "    \"\"\"\n",
        "    Function to calculate the maximum and minimum counts of the most liked travel category.\n",
        "\n",
        "    :param category_counts: Dictionary with categories as keys and counts as values.\n",
        "    :return: Tuple containing max and min counts.\n",
        "    \"\"\"\n",
        "    max_count = max(category_counts.values())\n",
        "    min_count = min(category_counts.values())\n",
        "    return max_count, min_count\n",
        "\n",
        "# Example data: Category counts for travelers\n",
        "category_counts = {\n",
        "    \"Cultural and Historical Experiences\": 500000,\n",
        "    \"Nature and Adventure Travel\": 300000,\n",
        "    \"Culinary Tourism\": 200000\n",
        "}\n",
        "\n",
        "# Calculate max and min counts\n",
        "max_count, min_count = calculate_max_min_counts(category_counts)\n",
        "\n",
        "# Display the results\n",
        "print(\"Maximum count:\", max_count)\n",
        "print(\"Minimum count:\", min_count)"
      ],
      "metadata": {
        "colab": {
          "base_uri": "https://localhost:8080/"
        },
        "id": "6LwKyP-x2umQ",
        "outputId": "e062faef-4c3e-4436-9d7c-f0a4b7a1f5a5"
      },
      "execution_count": 3,
      "outputs": [
        {
          "output_type": "stream",
          "name": "stdout",
          "text": [
            "Maximum count: 500000\n",
            "Minimum count: 200000\n"
          ]
        }
      ]
    },
    {
      "cell_type": "code",
      "source": [
        "def predict_religious_travelers(total_travelers, religious_preference_ratio):\n",
        "    \"\"\"\n",
        "    Predict the count of travelers who prefer visiting religious institutions.\n",
        "\n",
        "    :param total_travelers: Total number of travelers.\n",
        "    :param religious_preference_ratio: Percentage of travelers who prefer religious institutions (in decimal form).\n",
        "    :return: Predicted count of religious travelers.\n",
        "    \"\"\"\n",
        "    return int(total_travelers * religious_preference_ratio)\n",
        "\n",
        "# Example data\n",
        "total_travelers = 1000000  # Total number of travelers\n",
        "religious_preference_ratio = 0.25  # 25% of travelers prefer religious institutions\n",
        "\n",
        "# Predict count\n",
        "religious_travelers = predict_religious_travelers(total_travelers, religious_preference_ratio)\n",
        "\n",
        "# Display the result\n",
        "print(\"Predicted count of travelers who like religious institutions:\", religious_travelers)"
      ],
      "metadata": {
        "colab": {
          "base_uri": "https://localhost:8080/"
        },
        "id": "aUj0mYfL2yv1",
        "outputId": "0be0e0b2-b39e-43ac-adfb-2e2425589862"
      },
      "execution_count": 4,
      "outputs": [
        {
          "output_type": "stream",
          "name": "stdout",
          "text": [
            "Predicted count of travelers who like religious institutions: 250000\n"
          ]
        }
      ]
    },
    {
      "cell_type": "code",
      "source": [
        "def travelers_preference_for_beaches_and_picnic_spots(total_travelers, beach_and_picnic_ratio):\n",
        "    \"\"\"\n",
        "    Identify the count of travelers who prefer beaches and picnic spots.\n",
        "\n",
        "    :param total_travelers: Total number of travelers.\n",
        "    :param beach_and_picnic_ratio: Percentage of travelers who prefer beaches and picnic spots (in decimal form).\n",
        "    :return: Count of travelers who prefer beaches and picnic spots.\n",
        "    \"\"\"\n",
        "    return int(total_travelers * beach_and_picnic_ratio)\n",
        "\n",
        "# Example data\n",
        "total_travelers = 1000000  # Total number of travelers\n",
        "beach_and_picnic_ratio = 0.30  # 30% of travelers prefer beaches and picnic spots\n",
        "\n",
        "# Predict count of travelers who prefer beaches and picnic spots\n",
        "beach_and_picnic_travelers = travelers_preference_for_beaches_and_picnic_spots(total_travelers, beach_and_picnic_ratio)\n",
        "\n",
        "# Display the result\n",
        "print(\"Count of travelers who prefer beaches and picnic spots:\", beach_and_picnic_travelers)"
      ],
      "metadata": {
        "colab": {
          "base_uri": "https://localhost:8080/"
        },
        "id": "nvi_beLP222r",
        "outputId": "7af20fde-aa4d-4534-92a2-04b54bb5d353"
      },
      "execution_count": 5,
      "outputs": [
        {
          "output_type": "stream",
          "name": "stdout",
          "text": [
            "Count of travelers who prefer beaches and picnic spots: 300000\n"
          ]
        }
      ]
    }
  ]
}